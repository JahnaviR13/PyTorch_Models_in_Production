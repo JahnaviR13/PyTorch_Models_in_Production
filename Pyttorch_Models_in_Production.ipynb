{
  "nbformat": 4,
  "nbformat_minor": 0,
  "metadata": {
    "colab": {
      "provenance": [],
      "gpuType": "T4"
    },
    "kernelspec": {
      "name": "python3",
      "display_name": "Python 3"
    },
    "language_info": {
      "name": "python"
    }
  },
  "cells": [
    {
      "cell_type": "markdown",
      "source": [
        "#Pytorch Models in Production"
      ],
      "metadata": {
        "id": "9oRoQs5BPajF"
      }
    },
    {
      "cell_type": "markdown",
      "source": [
        "## Installation of Torchserve\n",
        "\n"
      ],
      "metadata": {
        "id": "rTdF0_c0Pi_8"
      }
    },
    {
      "cell_type": "markdown",
      "source": [
        "https://github.com/pytorch/serve/blob/master/docs/getting_started.md"
      ],
      "metadata": {
        "id": "UOkMSJCTwEa7"
      }
    },
    {
      "cell_type": "markdown",
      "source": [
        "## Creating Models using PyTorch"
      ],
      "metadata": {
        "id": "hr2HB-tPw4bs"
      }
    },
    {
      "cell_type": "code",
      "source": [
        "import torch\n",
        "import torch.nn as nn\n",
        "\n",
        "class AlexNet(nn.Module):\n",
        "    def __init__(self, num_classes: int = 1000, dropout: float = 0.5) -> None:\n",
        "        super().__init__()\n",
        "        self.features = nn.Sequential(\n",
        "            nn.Conv2d(3, 64, kernel_size=11, stride=4, padding=2),\n",
        "            nn.ReLU(inplace=True),\n",
        "            nn.MaxPool2d(kernel_size=3, stride=2),\n",
        "            nn.Conv2d(64, 192, kernel_size=5, padding=2),\n",
        "            nn.ReLU(inplace=True),\n",
        "            nn.MaxPool2d(kernel_size=3, stride=2),\n",
        "            nn.Conv2d(192, 384, kernel_size=3, padding=1),\n",
        "            nn.ReLU(inplace=True),\n",
        "            nn.Conv2d(384, 256, kernel_size=3, padding=1),\n",
        "            nn.ReLU(inplace=True),\n",
        "            nn.Conv2d(256, 256, kernel_size=3, padding=1),\n",
        "            nn.ReLU(inplace=True),\n",
        "            nn.MaxPool2d(kernel_size=3, stride=2),\n",
        "        )\n",
        "        self.avgpool = nn.AdaptiveAvgPool2d((6, 6))\n",
        "        self.classifier = nn.Sequential(\n",
        "            nn.Dropout(p=dropout),\n",
        "            nn.Linear(256 * 6 * 6, 4096),\n",
        "            nn.ReLU(inplace=True),\n",
        "            nn.Dropout(p=dropout),\n",
        "            nn.Linear(4096, 4096),\n",
        "            nn.ReLU(inplace=True),\n",
        "            nn.Linear(4096, num_classes),\n",
        "        )\n",
        "\n",
        "    def forward(self, x: torch.Tensor) -> torch.Tensor:\n",
        "        x = self.features(x)\n",
        "        x = self.avgpool(x)\n",
        "        x = torch.flatten(x, 1)\n",
        "        x = self.classifier(x)\n",
        "        return x"
      ],
      "metadata": {
        "id": "gyBEN0cxw93N"
      },
      "execution_count": null,
      "outputs": []
    },
    {
      "cell_type": "markdown",
      "source": [
        "## Importing Pretrained PyTorch Models\n"
      ],
      "metadata": {
        "id": "eGZbjWqJwmir"
      }
    },
    {
      "cell_type": "code",
      "source": [
        "from torchvision.models.alexnet import AlexNet\n",
        "\n",
        "class ImageClassifier(AlexNet):\n",
        "    def __init__(self):\n",
        "        super(ImageClassifier, self).__init__()"
      ],
      "metadata": {
        "id": "sPclJ0yBv-nd"
      },
      "execution_count": null,
      "outputs": []
    },
    {
      "cell_type": "markdown",
      "source": [
        "## Example of a Handler"
      ],
      "metadata": {
        "id": "OIGszgO7xHb_"
      }
    },
    {
      "cell_type": "code",
      "source": [
        "\"\"\"\n",
        "Module for image classification default handler\n",
        "\"\"\"\n",
        "import torch\n",
        "import torch.nn.functional as F\n",
        "from torchvision import transforms\n",
        "\n",
        "from ts.vision_handler import VisionHandler\n",
        "from ts.utils.util  import map_class_to_label\n",
        "\n",
        "\n",
        "class ImageClassifier(VisionHandler):\n",
        "    \"\"\"\n",
        "    ImageClassifier handler class. This handler takes an image\n",
        "    and returns the name of object in that image.\n",
        "    \"\"\"\n",
        "\n",
        "    topk = 5\n",
        "    # These are the standard Imagenet dimensions\n",
        "    # and statistics\n",
        "    image_processing = transforms.Compose([\n",
        "        transforms.Resize(256),\n",
        "        transforms.CenterCrop(224),\n",
        "        transforms.ToTensor(),\n",
        "        transforms.Normalize(mean=[0.485, 0.456, 0.406],\n",
        "                             std=[0.229, 0.224, 0.225])\n",
        "    ])\n",
        "\n",
        "    def set_max_result_classes(self, topk):\n",
        "        self.topk = topk\n",
        "\n",
        "    def get_max_result_classes(self):\n",
        "        return self.topk\n",
        "\n",
        "    def postprocess(self, data):\n",
        "        ps = F.softmax(data, dim=1)\n",
        "        probs, classes = torch.topk(ps, self.topk, dim=1)\n",
        "        probs = probs.tolist()\n",
        "        classes = classes.tolist()\n",
        "        return map_class_to_label(probs, self.mapping, classes)"
      ],
      "metadata": {
        "id": "v1ekdwhpxJi5"
      },
      "execution_count": null,
      "outputs": []
    },
    {
      "cell_type": "markdown",
      "source": [
        "## Saving Model using Scripting"
      ],
      "metadata": {
        "id": "qSEHh4k9xR1q"
      }
    },
    {
      "cell_type": "code",
      "source": [
        "#scripted mode\n",
        "from torchvision import models\n",
        "import torch\n",
        "model = models.alexnet(pretrained=True)\n",
        "sm = torch.jit.script(model)\n",
        "sm.save(\"alexnet.pt\")"
      ],
      "metadata": {
        "id": "us-oxgyMxQwc"
      },
      "execution_count": null,
      "outputs": []
    },
    {
      "cell_type": "markdown",
      "source": [
        "## Saving Model using Tracing"
      ],
      "metadata": {
        "id": "rGqk_sOqxXjT"
      }
    },
    {
      "cell_type": "code",
      "source": [
        "#traced mode\n",
        "from torchvision import models\n",
        "import torch\n",
        "model = models.alexnet(pretrained=True)\n",
        "model.eval()\n",
        "example_input = torch.rand(1, 3, 224, 224)\n",
        "traced_script_module = torch.jit.trace(model, example_input)\n",
        "traced_script_module.save(\"alexnet.pt\")"
      ],
      "metadata": {
        "id": "a1naayL9xbDC"
      },
      "execution_count": null,
      "outputs": []
    },
    {
      "cell_type": "markdown",
      "source": [
        "## Torch Model Archiver"
      ],
      "metadata": {
        "id": "0K0bzaSpyL0x"
      }
    },
    {
      "cell_type": "code",
      "source": [
        "torch-model-archiver --help"
      ],
      "metadata": {
        "id": "NLIhqrBdyckT"
      },
      "execution_count": null,
      "outputs": []
    },
    {
      "cell_type": "markdown",
      "source": [
        "### Download Pretrained Image Classification Model like AlexNet, DenseNet"
      ],
      "metadata": {
        "id": "SCy1K2UJ5nYL"
      }
    },
    {
      "cell_type": "code",
      "source": [
        "wget https://download.pytorch.org/models/alexnet-owt-7be5be79.pth"
      ],
      "metadata": {
        "id": "l0ZSdNCUy0nz"
      },
      "execution_count": null,
      "outputs": []
    },
    {
      "cell_type": "markdown",
      "source": [
        "### Combining all the files required for inference in single .mar file using torch-model-archiver"
      ],
      "metadata": {
        "id": "HdEPTqI552bH"
      }
    },
    {
      "cell_type": "code",
      "source": [
        "torch-model-archiver --model-name alexnet --version 1.0 --model-file ./serve/examples/image_classifier/alexnet/model.py --serialized-file alexnet-owt-7be5be79.pth --handler image_classifier --extra-files ./serve/examples/image_classifier/index_to_name.json"
      ],
      "metadata": {
        "id": "aDB36NKC5x-L"
      },
      "execution_count": null,
      "outputs": []
    },
    {
      "cell_type": "markdown",
      "source": [
        "### Create model store folder and add the .mar files to it for serving the models"
      ],
      "metadata": {
        "id": "NlHN2yzY6SDo"
      }
    },
    {
      "cell_type": "code",
      "source": [
        "mkdir model_store\n",
        "mv alexnet.mar model_store/"
      ],
      "metadata": {
        "id": "qaWEzsRn6Pmq"
      },
      "execution_count": null,
      "outputs": []
    },
    {
      "cell_type": "markdown",
      "source": [
        "### Start the server"
      ],
      "metadata": {
        "id": "PXuym6Jj6brZ"
      }
    },
    {
      "cell_type": "code",
      "source": [
        "torchserve --start --model-store model_store --models alexnet=alexnet.mar"
      ],
      "metadata": {
        "id": "Q8RIlANx6ZCe"
      },
      "execution_count": null,
      "outputs": []
    },
    {
      "cell_type": "markdown",
      "source": [
        "### Example Inference - Image Classification"
      ],
      "metadata": {
        "id": "dDvmw4j96d0J"
      }
    },
    {
      "cell_type": "code",
      "source": [
        "curl http://127.0.0.1:8080/predictions/alexnet -T ./serve/examples/image_classifier/kitten.jpg"
      ],
      "metadata": {
        "id": "z_uO7v5e6dMy"
      },
      "execution_count": null,
      "outputs": []
    },
    {
      "cell_type": "markdown",
      "source": [
        "### Deployed Models Manager"
      ],
      "metadata": {
        "id": "ARGB6X-W6iOo"
      }
    },
    {
      "cell_type": "code",
      "source": [
        "curl http://127.0.0.1:8081/models"
      ],
      "metadata": {
        "id": "QwvRhOIt6j83"
      },
      "execution_count": null,
      "outputs": []
    },
    {
      "cell_type": "code",
      "source": [],
      "metadata": {
        "id": "igm5ODGk66df"
      },
      "execution_count": null,
      "outputs": []
    }
  ]
}